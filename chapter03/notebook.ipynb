{
  "cells": [
    {
      "cell_type": "markdown",
      "metadata": {
        "id": "LEHYA7Z6Cqoo"
      },
      "source": [
        "# 3. プロンプトエンジニアリング\n"
      ]
    },
    {
      "cell_type": "code",
      "execution_count": 1,
      "metadata": {
        "id": "x2pzN96kCqop"
      },
      "outputs": [],
      "source": [
        "import os\n",
        "from google.colab import userdata\n",
        "\n",
        "os.environ[\"OPENAI_API_KEY\"] = userdata.get(\"OPENAI_API_KEY\")"
      ]
    },
    {
      "cell_type": "markdown",
      "metadata": {
        "id": "Vxg2aLTtCqop"
      },
      "source": [
        "#### 【注意】既知のエラーについて\n",
        "\n",
        "openai パッケージが依存する httpx のアップデートにより、`openai==1.40.6` を使用する箇所で `TypeError: Client.__init__() got an unexpected keyword argument 'proxies'` というエラーが発生するようになりました。\n",
        "\n",
        "このエラーは、`!pip install httpx==0.27.2` のように、httpx の特定バージョンをインストールすることで回避することができます。\n",
        "\n",
        "なお、Google Colab で一度上記のエラーに遭遇したあとで `!pip install httpx==0.27.2` のようにパッケージをインストールし直した場合、以下のどちらかの操作を実施する必要があります。\n",
        "\n",
        "- Google Colab の「ランタイム」から「セッションを再起動する」を実行する\n",
        "- 「ランタイムを接続解除して削除」を実行してパッケージのインストールからやり直す\n"
      ]
    },
    {
      "cell_type": "code",
      "execution_count": 2,
      "metadata": {
        "id": "prQ0I53bCqop",
        "outputId": "499c117c-59c4-4603-b97a-8e5bf956b317",
        "colab": {
          "base_uri": "https://localhost:8080/"
        }
      },
      "outputs": [
        {
          "output_type": "stream",
          "name": "stdout",
          "text": [
            "Collecting openai==1.40.6\n",
            "  Downloading openai-1.40.6-py3-none-any.whl.metadata (22 kB)\n",
            "Collecting httpx==0.27.2\n",
            "  Downloading httpx-0.27.2-py3-none-any.whl.metadata (7.1 kB)\n",
            "Requirement already satisfied: anyio<5,>=3.5.0 in /usr/local/lib/python3.11/dist-packages (from openai==1.40.6) (3.7.1)\n",
            "Requirement already satisfied: distro<2,>=1.7.0 in /usr/local/lib/python3.11/dist-packages (from openai==1.40.6) (1.9.0)\n",
            "Requirement already satisfied: jiter<1,>=0.4.0 in /usr/local/lib/python3.11/dist-packages (from openai==1.40.6) (0.8.2)\n",
            "Requirement already satisfied: pydantic<3,>=1.9.0 in /usr/local/lib/python3.11/dist-packages (from openai==1.40.6) (2.10.6)\n",
            "Requirement already satisfied: sniffio in /usr/local/lib/python3.11/dist-packages (from openai==1.40.6) (1.3.1)\n",
            "Requirement already satisfied: tqdm>4 in /usr/local/lib/python3.11/dist-packages (from openai==1.40.6) (4.67.1)\n",
            "Requirement already satisfied: typing-extensions<5,>=4.11 in /usr/local/lib/python3.11/dist-packages (from openai==1.40.6) (4.12.2)\n",
            "Requirement already satisfied: certifi in /usr/local/lib/python3.11/dist-packages (from httpx==0.27.2) (2025.1.31)\n",
            "Requirement already satisfied: httpcore==1.* in /usr/local/lib/python3.11/dist-packages (from httpx==0.27.2) (1.0.7)\n",
            "Requirement already satisfied: idna in /usr/local/lib/python3.11/dist-packages (from httpx==0.27.2) (3.10)\n",
            "Requirement already satisfied: h11<0.15,>=0.13 in /usr/local/lib/python3.11/dist-packages (from httpcore==1.*->httpx==0.27.2) (0.14.0)\n",
            "Requirement already satisfied: annotated-types>=0.6.0 in /usr/local/lib/python3.11/dist-packages (from pydantic<3,>=1.9.0->openai==1.40.6) (0.7.0)\n",
            "Requirement already satisfied: pydantic-core==2.27.2 in /usr/local/lib/python3.11/dist-packages (from pydantic<3,>=1.9.0->openai==1.40.6) (2.27.2)\n",
            "Downloading openai-1.40.6-py3-none-any.whl (361 kB)\n",
            "\u001b[2K   \u001b[90m━━━━━━━━━━━━━━━━━━━━━━━━━━━━━━━━━━━━━━━━\u001b[0m \u001b[32m361.3/361.3 kB\u001b[0m \u001b[31m7.8 MB/s\u001b[0m eta \u001b[36m0:00:00\u001b[0m\n",
            "\u001b[?25hDownloading httpx-0.27.2-py3-none-any.whl (76 kB)\n",
            "\u001b[2K   \u001b[90m━━━━━━━━━━━━━━━━━━━━━━━━━━━━━━━━━━━━━━━━\u001b[0m \u001b[32m76.4/76.4 kB\u001b[0m \u001b[31m4.3 MB/s\u001b[0m eta \u001b[36m0:00:00\u001b[0m\n",
            "\u001b[?25hInstalling collected packages: httpx, openai\n",
            "  Attempting uninstall: httpx\n",
            "    Found existing installation: httpx 0.28.1\n",
            "    Uninstalling httpx-0.28.1:\n",
            "      Successfully uninstalled httpx-0.28.1\n",
            "  Attempting uninstall: openai\n",
            "    Found existing installation: openai 1.61.1\n",
            "    Uninstalling openai-1.61.1:\n",
            "      Successfully uninstalled openai-1.61.1\n",
            "\u001b[31mERROR: pip's dependency resolver does not currently take into account all the packages that are installed. This behaviour is the source of the following dependency conflicts.\n",
            "google-genai 1.4.0 requires httpx<1.0.0dev,>=0.28.1, but you have httpx 0.27.2 which is incompatible.\u001b[0m\u001b[31m\n",
            "\u001b[0mSuccessfully installed httpx-0.27.2 openai-1.40.6\n"
          ]
        }
      ],
      "source": [
        "!pip install openai==1.40.6 httpx==0.27.2"
      ]
    },
    {
      "cell_type": "markdown",
      "metadata": {
        "id": "DG8NRnjeCqop"
      },
      "source": [
        "## 3.2. プロンプトエンジニアリングとは\n"
      ]
    },
    {
      "cell_type": "code",
      "execution_count": 4,
      "metadata": {
        "id": "uSXpSM1rCqop",
        "outputId": "62bcf9e2-2bd2-4c95-c25e-c613b6558d79",
        "colab": {
          "base_uri": "https://localhost:8080/"
        }
      },
      "outputs": [
        {
          "output_type": "stream",
          "name": "stdout",
          "text": [
            "プロンプトエンジニアリングとは、AI言語モデルに対して効果的にプロンプト（指示文や入力文）を設計するプロセスを指します。この手法は、AIが求められる応答や情報をて質の高いものとして生成するために重要です。\n",
            "\n",
            "具体的には、プロンプトエンジニアリングには以下のような要素が含まれます：\n",
            "\n",
            "1. **目的の明確化**: AIに期待する結果や目的を明確にすることが重要です。\n",
            "\n",
            "2. **プロンプトの設計**: 明確で具体的な指示や質問を作成し、AIがより正確な応答を生成できるようにします。\n",
            "\n",
            "3. **反復と調整**: 初期のプロンプトに対するAIの応答を評価し、必要に応じて修正や再設計を行うことで、応答の質を向上させます。\n",
            "\n",
            "4. **コンテキストの提供**: 必要に応じて背景情報やコンテキストを提供することで、AIの理解を助け、より適切な応答を引き出します。\n",
            "\n",
            "プロンプトエンジニアリングは、特にチャットボットや自動応答システム、コンテンツ生成などの分野でその効果が発揮されています。また、AIモデルの性能を最大限に引き出すための重要なスキルとして注目されています。\n"
          ]
        }
      ],
      "source": [
        "from openai import OpenAI\n",
        "\n",
        "client = OpenAI()\n",
        "\n",
        "response = client.chat.completions.create(\n",
        "    model=\"gpt-4o-mini\",\n",
        "    messages=[\n",
        "        {\"role\": \"user\", \"content\": \"プロンプトエンジニアリングとは\"},\n",
        "    ],\n",
        ")\n",
        "print(response.choices[0].message.content)"
      ]
    },
    {
      "cell_type": "code",
      "execution_count": 5,
      "metadata": {
        "id": "YIkVwDvxCqop",
        "outputId": "eba5d45e-59e8-4e1a-b7ae-55faa77f62c5",
        "colab": {
          "base_uri": "https://localhost:8080/"
        }
      },
      "outputs": [
        {
          "output_type": "stream",
          "name": "stdout",
          "text": [
            "プロンプトエンジニアリングとは、AIモデルに適切な入力（プロンプト）を設計する技術です。明確で具体的な指示を与えることで、AIが望ましい出力を生成できるように工夫します。これにより、ユーザーの意図に沿った結果を効果的に引き出すことが可能になります。\n"
          ]
        }
      ],
      "source": [
        "response = client.chat.completions.create(\n",
        "    model=\"gpt-4o-mini\",\n",
        "    messages=[\n",
        "        {\"role\": \"system\", \"content\": \"質問に100文字程度で答えてください。\"},\n",
        "        {\"role\": \"user\", \"content\": \"プロンプトエンジニアリングとは\"},\n",
        "    ],\n",
        ")\n",
        "print(response.choices[0].message.content)"
      ]
    },
    {
      "cell_type": "markdown",
      "metadata": {
        "id": "sbDwLf0QCqop"
      },
      "source": [
        "## 3.3. プロンプトの構成要素の基本\n"
      ]
    },
    {
      "cell_type": "markdown",
      "metadata": {
        "id": "7H4mvMKfCqop"
      },
      "source": [
        "### プロンプトのテンプレート化\n"
      ]
    },
    {
      "cell_type": "code",
      "execution_count": 8,
      "metadata": {
        "id": "9AqdwiTfCqop",
        "outputId": "053ec869-be30-405e-e15b-bb315e6528a0",
        "colab": {
          "base_uri": "https://localhost:8080/"
        }
      },
      "outputs": [
        {
          "output_type": "stream",
          "name": "stdout",
          "text": [
            "カレーのレシピを以下にご紹介します。ご家庭の好みや食材に応じてアレンジしてみてください。\n",
            "\n",
            "### カレーのレシピ\n",
            "\n",
            "#### 材料（4人分）\n",
            "- 鶏肉（もも肉または胸肉）：300g\n",
            "- 玉ねぎ：2個\n",
            "- にんじん：1本\n",
            "- じゃがいも：2個\n",
            "- カレールウ：100g（お好みの辛さ）\n",
            "- 水：800ml\n",
            "- サラダ油：大さじ2\n",
            "- 塩：少々\n",
            "- 胡椒：少々\n",
            "- お好みでガーリックパウダーや生姜（おろし）：適量\n",
            "- お好みでトッピング（パセリや福神漬けなど）：適量\n",
            "\n",
            "#### 作り方\n",
            "\n",
            "1. **材料の下ごしらえ**\n",
            "   - 鶏肉は一口大に切り、塩と胡椒をふります。\n",
            "   - 玉ねぎは薄切り、にんじんは輪切りまたは半月切り、じゃがいもは皮をむいて一口大に切ります。\n",
            "\n",
            "2. **鶏肉を炒める**\n",
            "   - 深めの鍋にサラダ油を熱し、鶏肉を入れて表面が白くなるまで炒めます。\n",
            "\n",
            "3. **玉ねぎを加える**\n",
            "   - 鶏肉に玉ねぎを加え、透明になるまでしっかり炒めます。\n",
            "\n",
            "4. **他の野菜を加える**\n",
            "   - にんじんとじゃがいもを加え、全体を軽く混ぜながらさらに数分炒めます。\n",
            "\n",
            "5. **水を加える**\n",
            "   - 鍋に水を加え、沸騰させます。沸騰したら火を弱め、アクを取ります。\n",
            "\n",
            "6. **煮込む**\n",
            "   - 蓋をして中火で約15分煮込みます。野菜が柔らかくなるまで煮込んでください。\n",
            "\n",
            "7. **カレールウを加える**\n",
            "   - 火を止めてからカレールウを加え、よく混ぜ合わせます。再び火を入れ、ルウが完全に溶けるまで弱火で加熱します。\n",
            "\n",
            "8. **味を調える**\n",
            "   - お好みでガーリックパウダーやおろし生姜を加え、塩や胡椒で味を整えます。\n",
            "\n",
            "9. **盛り付け**\n",
            "   - できあがったカレーを皿に盛り付け、お好みでトッピングを加えます。\n",
            "\n",
            "10. **ご飯と一緒に提供**\n",
            "    - 熱々のご飯と一緒にお召し上がりください。\n",
            "\n",
            "### おすすめのアレンジ\n",
            "- **野菜を追加**：ピーマン、コーン、なすなど、季節の野菜を追加しても美味しいです。\n",
            "- **辛さを調整**：辛口のカレールウを使ったり、赤唐辛子を加えて辛さを調整できます。\n",
            "- **煮込む時間を長く**：時間がある場合は、じっくりと煮込むと味がより深まります。\n",
            "\n",
            "ぜひ、お試しください！\n"
          ]
        }
      ],
      "source": [
        "prompt = '''\\\n",
        "以下の料理のレシピを考えてください。\n",
        "\n",
        "料理名: \"\"\"\n",
        "{dish}\n",
        "\"\"\"\n",
        "'''\n",
        "\n",
        "\n",
        "def generate_recipe(dish: str) -> str:\n",
        "    response = client.chat.completions.create(\n",
        "        model=\"gpt-4o-mini\",\n",
        "        messages=[\n",
        "            {\"role\": \"user\", \"content\": prompt.format(dish=dish)},\n",
        "        ],\n",
        "    )\n",
        "    return response.choices[0].message.content\n",
        "\n",
        "\n",
        "recipe = generate_recipe(\"カレー\")\n",
        "print(recipe)"
      ]
    },
    {
      "cell_type": "code",
      "execution_count": 7,
      "metadata": {
        "id": "K_VZ03rkCqop",
        "outputId": "8b31a08b-d279-45e7-ef42-3fb9de2e3b23",
        "colab": {
          "base_uri": "https://localhost:8080/"
        }
      },
      "outputs": [
        {
          "output_type": "stream",
          "name": "stdout",
          "text": [
            "カレーのレシピをご紹介します。こちらは基本的なチキンカレーのレシピです。\n",
            "\n",
            "### 材料（4人分）\n",
            "- 鶏もも肉: 400g（骨なし）\n",
            "- 玉ねぎ: 2個（中サイズ）\n",
            "- にんにく: 3かけ\n",
            "- しょうが: 1かけ\n",
            "- トマト: 1個（中サイズ）またはトマト缶400g\n",
            "- にんじん: 1本\n",
            "- じゃがいも: 2個\n",
            "- カレー粉: 大さじ2\n",
            "- 塩: 小さじ1\n",
            "- 黒こしょう: 適量\n",
            "- サラダ油: 大さじ2\n",
            "- 水: 400ml\n",
            "- パセリ（あれば）: 適量\n",
            "\n",
            "### 作り方\n",
            "1. **下ごしらえ**:\n",
            "   - 鶏もも肉は一口大に切ります。\n",
            "   - 玉ねぎはみじん切り、にんにくとしょうがはすりおろします。\n",
            "   - にんじんは薄い輪切り、じゃがいもは一口大に切ります。\n",
            "   - トマトはざく切りにします。\n",
            "\n",
            "2. **玉ねぎを炒める**:\n",
            "   - 中火でフライパンにサラダ油を熱し、玉ねぎを入れて透明になるまで炒めます。\n",
            "\n",
            "3. **鶏肉を加える**:\n",
            "   - 玉ねぎが透明になったら、鶏もも肉を加え、表面が白くなるまで炒めます。\n",
            "\n",
            "4. **にんにくとしょうがを追加**:\n",
            "   - にんにくとしょうがを加え、香りが立つまでさらに炒めます。\n",
            "\n",
            "5. **野菜とトマトを入れる**:\n",
            "   - にんじん、じゃがいも、トマトを加え、全体をよく混ぜます。\n",
            "\n",
            "6. **スパイスを加える**:\n",
            "   - カレー粉、塩、黒こしょうを追加し、全体になじむまでさらに炒めます。\n",
            "\n",
            "7. **煮込む**:\n",
            "   - 水を加え、沸騰したら火を弱め、蓋をして約20-30分煮込みます。野菜が柔らかくなるまで煮込んでください。\n",
            "\n",
            "8. **仕上げ**:\n",
            "   - 味を見て、必要であれば塩を追加し、最後にパセリを散らして完成です。\n",
            "\n",
            "### サーブ\n",
            "ご飯やナンと一緒に盛り付けて召し上がってください！お好みで福神漬けやらっきょうを添えるとさらに美味しく楽しめます。\n",
            "\n",
            "お楽しみください！\n"
          ]
        }
      ],
      "source": [
        "prompt = \"\"\"\\\n",
        "ユーザーが入力した料理のレシピを考えてください。\n",
        "\n",
        "料理名: '''\n",
        "{dish}\n",
        "'''\n",
        "\"\"\"\n",
        "\n",
        "\n",
        "def generate_recipe(dish: str) -> str:\n",
        "    response = client.chat.completions.create(\n",
        "        model=\"gpt-4o-mini\",\n",
        "        messages=[\n",
        "            {\"role\": \"system\", \"content\": \"ユーザーが入力した料理のレシピを考えてください。\"},\n",
        "            {\"role\": \"user\", \"content\": f\"{dish}\"},\n",
        "        ],\n",
        "    )\n",
        "    return response.choices[0].message.content\n",
        "\n",
        "\n",
        "recipe = generate_recipe(\"カレー\")\n",
        "print(recipe)"
      ]
    },
    {
      "cell_type": "markdown",
      "metadata": {
        "id": "wSWUjw71Cqop"
      },
      "source": [
        "### 出力形式を指定する\n"
      ]
    },
    {
      "cell_type": "code",
      "execution_count": 10,
      "metadata": {
        "id": "S1jGn2OHCqop",
        "outputId": "a12f3149-3aeb-49c1-f9dd-9ae640705bbb",
        "colab": {
          "base_uri": "https://localhost:8080/"
        }
      },
      "outputs": [
        {
          "output_type": "stream",
          "name": "stdout",
          "text": [
            "```json\n",
            "{\n",
            "  \"材料\": [\"米\", \"カレーパウダー\", \"玉ねぎ\", \"にんじん\", \"じゃがいも\", \"肉（鶏肉または牛肉）\", \"水\", \"塩\", \"油\"],\n",
            "  \"手順\": [\n",
            "    \"米を炊く。\",\n",
            "    \"鍋に油を熱し、刻んだ玉ねぎを炒める。\",\n",
            "    \"玉ねぎが透明になったら、一口大に切った肉を加え、炒める。\",\n",
            "    \"肉が白くなったら、さいの目に切ったにんじんとじゃがいもを加え、さらに炒める。\",\n",
            "    \"水を加え、沸騰させる。\",\n",
            "    \"アクを取り除き、カレーパウダーと塩を加える。\",\n",
            "    \"蓋をして弱火で20分ほど煮込む。\",\n",
            "    \"味を見て、必要であれば塩を追加し、さらに数分煮込む。\",\n",
            "    \"炊き上がった米の上にカレーをかけて盛り付ける。\"\n",
            "  ]\n",
            "}\n",
            "```\n"
          ]
        }
      ],
      "source": [
        "system_prompt = \"\"\"\\\n",
        "ユーザーが入力した料理のレシピを考えてください。\n",
        "\n",
        "出力は以下のJSON形式にしてください。\n",
        "\n",
        "```\n",
        "{\n",
        "  \"材料\": [\"材料1\", \"材料2\"],\n",
        "  \"手順\": [\"手順1\", \"手順2\"]\n",
        "}\n",
        "```\n",
        "\"\"\"\n",
        "\n",
        "response = client.chat.completions.create(\n",
        "    model=\"gpt-4o-mini\",\n",
        "    messages=[\n",
        "        {\"role\": \"system\", \"content\": system_prompt},\n",
        "        {\"role\": \"user\", \"content\": \"カレー\"},\n",
        "    ],\n",
        ")\n",
        "print(response.choices[0].message.content)"
      ]
    },
    {
      "cell_type": "markdown",
      "metadata": {
        "id": "k7pAjC3cCqoq"
      },
      "source": [
        "## 3.4. プロンプトエンジニアリングの定番の手法\n"
      ]
    },
    {
      "cell_type": "markdown",
      "metadata": {
        "id": "MoS7STnrCqoq"
      },
      "source": [
        "### Zero-shot プロンプティング\n"
      ]
    },
    {
      "cell_type": "code",
      "execution_count": 11,
      "metadata": {
        "id": "YBv8pr3bCqoq",
        "outputId": "7de35e2c-e7d8-433a-f0f3-12f0cba9da68",
        "colab": {
          "base_uri": "https://localhost:8080/"
        }
      },
      "outputs": [
        {
          "output_type": "stream",
          "name": "stdout",
          "text": [
            "ポジティブ\n"
          ]
        }
      ],
      "source": [
        "response = client.chat.completions.create(\n",
        "    model=\"gpt-4o-mini\",\n",
        "    messages=[\n",
        "        {\n",
        "            \"role\": \"system\",\n",
        "            \"content\": \"入力をポジティブ・ネガティブ・中立のどれかに分類してください。\",\n",
        "        },\n",
        "        {\n",
        "            \"role\": \"user\",\n",
        "            \"content\": \"ChatGPTはとても便利だ\",\n",
        "        },\n",
        "    ],\n",
        ")\n",
        "print(response.choices[0].message.content)"
      ]
    },
    {
      "cell_type": "markdown",
      "metadata": {
        "id": "dnI1BX7TCqoq"
      },
      "source": [
        "### Few-shot プロンプティング\n"
      ]
    },
    {
      "cell_type": "code",
      "execution_count": 12,
      "metadata": {
        "id": "MyksNew4Cqoq",
        "outputId": "60ff8fe3-a2e1-42d5-e820-71d6bc90c336",
        "colab": {
          "base_uri": "https://localhost:8080/"
        }
      },
      "outputs": [
        {
          "output_type": "stream",
          "name": "stdout",
          "text": [
            "はい、ChatGPTはさまざまな質問に答えたり、情報を提供したり、アイデアを出したりするのに役立つツールです。何か特定のことについてお手伝いできることがあれば教えてください！\n"
          ]
        }
      ],
      "source": [
        "response = client.chat.completions.create(\n",
        "    model=\"gpt-4o-mini\",\n",
        "    messages=[\n",
        "        {\"role\": \"system\", \"content\": \"入力がAIに関係するか回答してください。\"},\n",
        "        {\"role\": \"user\", \"content\": \"ChatGPTはとても便利だ\"},\n",
        "    ],\n",
        ")\n",
        "print(response.choices[0].message.content)"
      ]
    },
    {
      "cell_type": "code",
      "execution_count": 13,
      "metadata": {
        "id": "3fP2ve0SCqoq",
        "outputId": "e98cf314-fe23-4e89-8b09-29f09433ea29",
        "colab": {
          "base_uri": "https://localhost:8080/"
        }
      },
      "outputs": [
        {
          "output_type": "stream",
          "name": "stdout",
          "text": [
            "true\n"
          ]
        }
      ],
      "source": [
        "response = client.chat.completions.create(\n",
        "    model=\"gpt-4o-mini\",\n",
        "    messages=[\n",
        "        {\"role\": \"system\", \"content\": \"入力がAIに関係するか回答してください。\"},\n",
        "        {\"role\": \"user\", \"content\": \"AIの進化はすごい\"},\n",
        "        {\"role\": \"assistant\", \"content\": \"true\"},\n",
        "        {\"role\": \"user\", \"content\": \"今日は良い天気だ\"},\n",
        "        {\"role\": \"assistant\", \"content\": \"false\"},\n",
        "        {\"role\": \"user\", \"content\": \"ChatGPTはとても便利だ\"},\n",
        "    ],\n",
        ")\n",
        "print(response.choices[0].message.content)"
      ]
    },
    {
      "cell_type": "markdown",
      "metadata": {
        "id": "_kSFlexBCqoq"
      },
      "source": [
        "### （コラム）Few-shot プロンプティングのその他の形式\n"
      ]
    },
    {
      "cell_type": "code",
      "execution_count": 14,
      "metadata": {
        "id": "jiRbN7mACqoq",
        "outputId": "dd94defd-6020-4df0-e1a2-a0d6b3be0827",
        "colab": {
          "base_uri": "https://localhost:8080/"
        }
      },
      "outputs": [
        {
          "output_type": "stream",
          "name": "stdout",
          "text": [
            "true\n"
          ]
        }
      ],
      "source": [
        "prompt = \"\"\"\\\n",
        "入力がAIに関係するか回答してください。\n",
        "\n",
        "Q: AIの進化はすごい\n",
        "A: true\n",
        "Q: 今日は良い天気だ\n",
        "A: false\n",
        "Q: ChatGPTはとても便利だ\n",
        "A:\n",
        "\"\"\"\n",
        "\n",
        "response = client.completions.create(\n",
        "    model=\"gpt-3.5-turbo-instruct\",\n",
        "    prompt=prompt,\n",
        ")\n",
        "print(response.choices[0].text)"
      ]
    },
    {
      "cell_type": "code",
      "execution_count": 15,
      "metadata": {
        "id": "0pswb-eACqoq",
        "outputId": "e420b56a-49e7-4f7c-be96-6eb6e57744a2",
        "colab": {
          "base_uri": "https://localhost:8080/"
        }
      },
      "outputs": [
        {
          "output_type": "stream",
          "name": "stdout",
          "text": [
            "true\n"
          ]
        }
      ],
      "source": [
        "response = client.chat.completions.create(\n",
        "    model=\"gpt-4o-mini\",\n",
        "    messages=[\n",
        "        {\"role\": \"system\", \"content\": \"入力がAIに関係するか回答してください。\"},\n",
        "        {\"role\": \"system\", \"name\": \"example_user\", \"content\": \"AIの進化はすごい\"},\n",
        "        {\"role\": \"system\", \"name\": \"example_assistant\", \"content\": \"true\"},\n",
        "        {\"role\": \"system\", \"name\": \"example_user\", \"content\": \"今日は良い天気だ\"},\n",
        "        {\"role\": \"system\", \"name\": \"example_assistant\", \"content\": \"false\"},\n",
        "        {\"role\": \"user\", \"content\": \"ChatGPTはとても便利だ\"},\n",
        "    ],\n",
        ")\n",
        "print(response.choices[0].message.content)"
      ]
    },
    {
      "cell_type": "markdown",
      "metadata": {
        "id": "Ln05hXaACqoq"
      },
      "source": [
        "### Zero-shot Chain-of-Thought プロンプティング\n"
      ]
    },
    {
      "cell_type": "code",
      "execution_count": 16,
      "metadata": {
        "id": "CovT1n8kCqoq",
        "outputId": "6c15418f-0cc5-406b-e57e-31c8168de301",
        "colab": {
          "base_uri": "https://localhost:8080/"
        }
      },
      "outputs": [
        {
          "output_type": "stream",
          "name": "stdout",
          "text": [
            "14\n"
          ]
        }
      ],
      "source": [
        "response = client.chat.completions.create(\n",
        "    model=\"gpt-4o-mini\",\n",
        "    messages=[\n",
        "        {\"role\": \"system\", \"content\": \"回答だけ一言で出力してください。\"},\n",
        "        {\"role\": \"user\", \"content\": \"10 + 2 * 3 - 4 * 2\"},\n",
        "    ],\n",
        ")\n",
        "print(response.choices[0].message.content)"
      ]
    },
    {
      "cell_type": "code",
      "execution_count": 17,
      "metadata": {
        "id": "NCp90B0_Cqoq",
        "outputId": "5d675fce-bb09-4ae0-a2cc-c75ff6ab0c88",
        "colab": {
          "base_uri": "https://localhost:8080/"
        }
      },
      "outputs": [
        {
          "output_type": "stream",
          "name": "stdout",
          "text": [
            "計算をステップバイステップで行います。\n",
            "\n",
            "1. 式を確認します: \\( 10 + 2 \\times 3 - 4 \\times 2 \\)\n",
            "\n",
            "2. 優先順位に従って掛け算を先に計算します。\n",
            "   - \\( 2 \\times 3 = 6 \\)\n",
            "   - \\( 4 \\times 2 = 8 \\)\n",
            "\n",
            "3. これにより、式は次のように書き換えられます:\n",
            "   \\( 10 + 6 - 8 \\)\n",
            "\n",
            "4. 次に、足し算を計算します:\n",
            "   - \\( 10 + 6 = 16 \\)\n",
            "\n",
            "5. これを元の式に代入します:\n",
            "   \\( 16 - 8 \\)\n",
            "\n",
            "6. 最後に引き算を計算します:\n",
            "   - \\( 16 - 8 = 8 \\)\n",
            "\n",
            "したがって、最終的な答えは \\( 8 \\) です。\n"
          ]
        }
      ],
      "source": [
        "response = client.chat.completions.create(\n",
        "    model=\"gpt-4o-mini\",\n",
        "    messages=[\n",
        "        {\"role\": \"system\", \"content\": \"ステップバイステップで考えてください。\"},\n",
        "        {\"role\": \"user\", \"content\": \"10 + 2 * 3 - 4 * 2\"},\n",
        "    ],\n",
        ")\n",
        "print(response.choices[0].message.content)"
      ]
    },
    {
      "cell_type": "code",
      "execution_count": null,
      "metadata": {
        "id": "97sMqxlTCqoq"
      },
      "outputs": [],
      "source": []
    }
  ],
  "metadata": {
    "kernelspec": {
      "display_name": ".venv",
      "language": "python",
      "name": "python3"
    },
    "language_info": {
      "codemirror_mode": {
        "name": "ipython",
        "version": 3
      },
      "file_extension": ".py",
      "mimetype": "text/x-python",
      "name": "python",
      "nbconvert_exporter": "python",
      "pygments_lexer": "ipython3",
      "version": "3.11.9"
    },
    "colab": {
      "provenance": []
    }
  },
  "nbformat": 4,
  "nbformat_minor": 0
}